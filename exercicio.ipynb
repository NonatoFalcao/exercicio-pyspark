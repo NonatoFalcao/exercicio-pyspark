{
  "nbformat": 4,
  "nbformat_minor": 0,
  "metadata": {
    "colab": {
      "provenance": []
    },
    "kernelspec": {
      "name": "python3",
      "display_name": "Python 3"
    },
    "language_info": {
      "name": "python"
    }
  },
  "cells": [
    {
      "cell_type": "code",
      "execution_count": 1,
      "metadata": {
        "colab": {
          "base_uri": "https://localhost:8080/"
        },
        "id": "vnjozppVgkvM",
        "outputId": "eb3f04c2-0ec4-4207-cba5-2f3add0be37e"
      },
      "outputs": [
        {
          "output_type": "stream",
          "name": "stdout",
          "text": [
            "Collecting pyspark\n",
            "  Downloading pyspark-3.5.1.tar.gz (317.0 MB)\n",
            "\u001b[2K     \u001b[90m━━━━━━━━━━━━━━━━━━━━━━━━━━━━━━━━━━━━━━━━\u001b[0m \u001b[32m317.0/317.0 MB\u001b[0m \u001b[31m4.6 MB/s\u001b[0m eta \u001b[36m0:00:00\u001b[0m\n",
            "\u001b[?25h  Preparing metadata (setup.py) ... \u001b[?25l\u001b[?25hdone\n",
            "Requirement already satisfied: py4j==0.10.9.7 in /usr/local/lib/python3.10/dist-packages (from pyspark) (0.10.9.7)\n",
            "Building wheels for collected packages: pyspark\n",
            "  Building wheel for pyspark (setup.py) ... \u001b[?25l\u001b[?25hdone\n",
            "  Created wheel for pyspark: filename=pyspark-3.5.1-py2.py3-none-any.whl size=317488491 sha256=54bc723779268cfe61d9653f0452aa22df1727368a3a8982bf2eddc54a935905\n",
            "  Stored in directory: /root/.cache/pip/wheels/80/1d/60/2c256ed38dddce2fdd93be545214a63e02fbd8d74fb0b7f3a6\n",
            "Successfully built pyspark\n",
            "Installing collected packages: pyspark\n",
            "Successfully installed pyspark-3.5.1\n"
          ]
        }
      ],
      "source": [
        "!pip install pyspark"
      ]
    },
    {
      "cell_type": "code",
      "source": [
        "from pyspark.sql import SparkSession\n",
        "from pyspark.sql.functions import *\n",
        "from pyspark.sql.types import *\n",
        "from pyspark.ml.feature import VectorAssembler\n",
        "from pyspark.ml.feature import StandardScaler"
      ],
      "metadata": {
        "id": "Nt5agyKaiI8F"
      },
      "execution_count": 2,
      "outputs": []
    },
    {
      "cell_type": "code",
      "source": [
        "spark = SparkSession.builder.appName(\"Dr Isaac Learning Class\").config(\"spark.memory.offHeap.enabled\",\"true\").config(\"spark.memory.offHeap.size\",\"10g\").getOrCreate()"
      ],
      "metadata": {
        "id": "pARN5zd9hKs3"
      },
      "execution_count": 3,
      "outputs": []
    },
    {
      "cell_type": "markdown",
      "source": [
        "#1 Leia o arquivo csv e transforme em dataframe\n",
        "\n",
        "Dica: use o argumento `header=True`"
      ],
      "metadata": {
        "id": "lAvyRZPTs8yR"
      }
    },
    {
      "cell_type": "code",
      "source": [],
      "metadata": {
        "id": "FpMLmw769bbT"
      },
      "execution_count": null,
      "outputs": []
    },
    {
      "cell_type": "markdown",
      "source": [
        "# 2 Mostre os 5 primeiros registros do dataframe"
      ],
      "metadata": {
        "id": "p5ruxl09tMKE"
      }
    },
    {
      "cell_type": "code",
      "source": [],
      "metadata": {
        "id": "U6s2HS-RkWkW"
      },
      "execution_count": 20,
      "outputs": []
    },
    {
      "cell_type": "markdown",
      "source": [
        "# 3 Conte a quantidade de registros (linhas) no dataframe"
      ],
      "metadata": {
        "id": "v7Up7R3etwdn"
      }
    },
    {
      "cell_type": "code",
      "source": [],
      "metadata": {
        "id": "3lAz0LzrkXr-"
      },
      "execution_count": 20,
      "outputs": []
    },
    {
      "cell_type": "markdown",
      "source": [
        "# 4 Quantos usuários únicos estao presentes no dataframe?"
      ],
      "metadata": {
        "id": "LXH9qH-tt5Av"
      }
    },
    {
      "cell_type": "code",
      "source": [],
      "metadata": {
        "id": "EfFjaIcPuCv3"
      },
      "execution_count": 20,
      "outputs": []
    },
    {
      "cell_type": "markdown",
      "source": [
        "# 5 Qual o usuário mais velho presente no dataframe? (mais velho é diferente de mais antigo)"
      ],
      "metadata": {
        "id": "IS2nWW3GwWR6"
      }
    },
    {
      "cell_type": "code",
      "source": [],
      "metadata": {
        "id": "YaZB9NJWxH2C"
      },
      "execution_count": 20,
      "outputs": []
    },
    {
      "cell_type": "markdown",
      "source": [
        "# 6 Qual a média do feedback agregada para cada genero no dataframe?"
      ],
      "metadata": {
        "id": "-K-dih_wxQCm"
      }
    },
    {
      "cell_type": "code",
      "source": [],
      "metadata": {
        "id": "n05WCc_9zOww"
      },
      "execution_count": 20,
      "outputs": []
    },
    {
      "cell_type": "markdown",
      "source": [
        "# 7 Defina um novo dataframe que possua apenas os registros possuindo mais do que 3 interações com o suporte de cliente"
      ],
      "metadata": {
        "id": "gFv4jiw200dt"
      }
    },
    {
      "cell_type": "code",
      "source": [],
      "metadata": {
        "id": "Xm7dwwLX04Oh"
      },
      "execution_count": 21,
      "outputs": []
    },
    {
      "cell_type": "code",
      "source": [],
      "metadata": {
        "id": "qVhOVZAw1ca1"
      },
      "execution_count": 21,
      "outputs": []
    },
    {
      "cell_type": "markdown",
      "source": [
        "# 8 A partir do dataframe definido anteriormente, defina outro que possua apenas as colunas 'Customer Support Interactions', 'Feedback/Ratings', 'User ID'"
      ],
      "metadata": {
        "id": "SszdhMsB2Isv"
      }
    },
    {
      "cell_type": "code",
      "source": [],
      "metadata": {
        "id": "AgeFVUBp2KdS"
      },
      "execution_count": 21,
      "outputs": []
    },
    {
      "cell_type": "markdown",
      "source": [
        "# 9 A partir do dataframe definido na questao anterior, converta as colunas 'Customer Support Interactions', 'Feedback/Ratings' de string para float  "
      ],
      "metadata": {
        "id": "YQojrBD11i4W"
      }
    },
    {
      "cell_type": "code",
      "source": [],
      "metadata": {
        "id": "IPPu5hlU1mvW"
      },
      "execution_count": 21,
      "outputs": []
    },
    {
      "cell_type": "code",
      "source": [],
      "metadata": {
        "id": "FDdd51AQ2ypt"
      },
      "execution_count": 21,
      "outputs": []
    },
    {
      "cell_type": "markdown",
      "source": [
        "# 10 A partir do dataframe definido na questao anterior, aplique padronizacao nas colunas 'Customer Support Interactions','Feedback/Ratings'\n"
      ],
      "metadata": {
        "id": "hzRbriJgzTeb"
      }
    },
    {
      "cell_type": "code",
      "source": [],
      "metadata": {
        "id": "MZ26B-0SzT44"
      },
      "execution_count": 21,
      "outputs": []
    },
    {
      "cell_type": "code",
      "source": [],
      "metadata": {
        "id": "IXn29vKU0q3H"
      },
      "execution_count": 21,
      "outputs": []
    },
    {
      "cell_type": "code",
      "source": [],
      "metadata": {
        "id": "8PgD3fKB06Bt"
      },
      "execution_count": 21,
      "outputs": []
    },
    {
      "cell_type": "code",
      "source": [],
      "metadata": {
        "id": "wEWdHkSj3f2s"
      },
      "execution_count": 21,
      "outputs": []
    },
    {
      "cell_type": "code",
      "source": [],
      "metadata": {
        "id": "eMLByO3T3gb9"
      },
      "execution_count": 21,
      "outputs": []
    },
    {
      "cell_type": "code",
      "source": [],
      "metadata": {
        "id": "0XKjLUWj3jCn"
      },
      "execution_count": 21,
      "outputs": []
    }
  ]
}